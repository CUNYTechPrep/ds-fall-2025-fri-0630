{
 "cells": [
  {
   "cell_type": "markdown",
   "metadata": {},
   "source": [
    "# First print your name in the cell below then save this file. (or something nice about your instructor)"
   ]
  },
  {
   "cell_type": "code",
   "execution_count": 34,
   "metadata": {},
   "outputs": [
    {
     "name": "stdout",
     "output_type": "stream",
     "text": [
      "Mahmood Gheith\n"
     ]
    }
   ],
   "source": [
    "# In this cell print your name \n",
    "print(\"Mahmood Gheith\")\n"
   ]
  },
  {
   "cell_type": "markdown",
   "metadata": {},
   "source": [
    "# Data wrangling with Pandas exercise\n",
    "* For this exercise we will be using the `listings.csv` data file."
   ]
  },
  {
   "cell_type": "code",
   "execution_count": 35,
   "metadata": {},
   "outputs": [],
   "source": [
    "import pandas as pd\n",
    "import numpy as np"
   ]
  },
  {
   "cell_type": "markdown",
   "metadata": {},
   "source": [
    "# Load in the data file using `pd.read_csv()`"
   ]
  },
  {
   "cell_type": "code",
   "execution_count": 36,
   "metadata": {},
   "outputs": [],
   "source": [
    "# Load in the data file using `pd.read_csv()`\n",
    "\n",
    "df = pd.read_csv('listings.csv')\n"
   ]
  },
  {
   "cell_type": "markdown",
   "metadata": {},
   "source": [
    "## Exercise 2 - Filtering\n",
    "\n",
    "Return the following subsets of the dataframe.\n",
    "\n",
    "1. How many listings are there with a price less than 100? \n",
    "\n",
    "\n",
    "2. Find how many listings there are in just Brooklyn.\n",
    "\n",
    "\n",
    "3. Find how many listings there are in Brooklyn with a price less than 100.\n",
    "\n",
    "\n",
    "4. Using `.isin()` select anyone that has the host name of Michael, David, John, and Daniel.\n",
    "\n",
    "\n",
    "5. Create a new column called `adjusted_price` that has $100 added to every listing in Williamsburg.  The prices for all other listings should be the same as the were before. \n",
    "\n",
    "\n",
    "6. What % of the rooms are private, and what % of the rooms are shared.  \n",
    "    * Hint, use `.value_counts()`\n"
   ]
  },
  {
   "cell_type": "code",
   "execution_count": 37,
   "metadata": {},
   "outputs": [
    {
     "data": {
      "text/plain": [
       "22778"
      ]
     },
     "execution_count": 37,
     "metadata": {},
     "output_type": "execute_result"
    }
   ],
   "source": [
    "# 1. How many listings are there with a price less than 100? \n",
    "\n",
    "df[df['price'] < 100].shape[0]\n",
    "\n"
   ]
  },
  {
   "cell_type": "code",
   "execution_count": 38,
   "metadata": {},
   "outputs": [
    {
     "name": "stdout",
     "output_type": "stream",
     "text": [
      "Number of listings in Brooklyn: 18632\n"
     ]
    },
    {
     "data": {
      "text/plain": [
       "18632"
      ]
     },
     "execution_count": 38,
     "metadata": {},
     "output_type": "execute_result"
    }
   ],
   "source": [
    "# 2. Make a new DataFrame of listings in Brooklyn named `df_bk` \n",
    "# and find how many listings in just Brooklyn.\n",
    "\n",
    "df_bk = df[df['neighbourhood_group'] == 'Brooklyn']\n",
    "print(f\"Number of listings in Brooklyn: {df_bk.shape[0]}\")\n",
    "df_bk.shape[0]\n"
   ]
  },
  {
   "cell_type": "code",
   "execution_count": 39,
   "metadata": {},
   "outputs": [
    {
     "data": {
      "text/plain": [
       "10473"
      ]
     },
     "execution_count": 39,
     "metadata": {},
     "output_type": "execute_result"
    }
   ],
   "source": [
    "# 3. Find how many listings there are in Brooklyn with a price less than 100.\n",
    "\n",
    "df_bk[df_bk['price'] < 100].shape[0]"
   ]
  },
  {
   "cell_type": "code",
   "execution_count": 40,
   "metadata": {},
   "outputs": [
    {
     "data": {
      "text/html": [
       "<div>\n",
       "<style scoped>\n",
       "    .dataframe tbody tr th:only-of-type {\n",
       "        vertical-align: middle;\n",
       "    }\n",
       "\n",
       "    .dataframe tbody tr th {\n",
       "        vertical-align: top;\n",
       "    }\n",
       "\n",
       "    .dataframe thead th {\n",
       "        text-align: right;\n",
       "    }\n",
       "</style>\n",
       "<table border=\"1\" class=\"dataframe\">\n",
       "  <thead>\n",
       "    <tr style=\"text-align: right;\">\n",
       "      <th></th>\n",
       "      <th>id</th>\n",
       "      <th>name</th>\n",
       "      <th>host_id</th>\n",
       "      <th>host_name</th>\n",
       "      <th>neighbourhood_group</th>\n",
       "      <th>neighbourhood</th>\n",
       "      <th>latitude</th>\n",
       "      <th>longitude</th>\n",
       "      <th>room_type</th>\n",
       "      <th>price</th>\n",
       "      <th>minimum_nights</th>\n",
       "      <th>number_of_reviews</th>\n",
       "      <th>last_review</th>\n",
       "      <th>reviews_per_month</th>\n",
       "      <th>calculated_host_listings_count</th>\n",
       "      <th>availability_365</th>\n",
       "    </tr>\n",
       "  </thead>\n",
       "  <tbody>\n",
       "    <tr>\n",
       "      <th>52</th>\n",
       "      <td>16595</td>\n",
       "      <td>LOFT HAVEN ~ Six Windows ~ Bricks ~ Plants ~ Q...</td>\n",
       "      <td>64522</td>\n",
       "      <td>Daniel</td>\n",
       "      <td>Brooklyn</td>\n",
       "      <td>Williamsburg</td>\n",
       "      <td>40.70933</td>\n",
       "      <td>-73.96792</td>\n",
       "      <td>Entire home/apt</td>\n",
       "      <td>271</td>\n",
       "      <td>1</td>\n",
       "      <td>172</td>\n",
       "      <td>2020-07-14</td>\n",
       "      <td>1.44</td>\n",
       "      <td>1</td>\n",
       "      <td>365</td>\n",
       "    </tr>\n",
       "    <tr>\n",
       "      <th>201</th>\n",
       "      <td>61747</td>\n",
       "      <td>Cozy,  Brooklyn, Prospect Park Studio</td>\n",
       "      <td>299370</td>\n",
       "      <td>David</td>\n",
       "      <td>Brooklyn</td>\n",
       "      <td>Prospect-Lefferts Gardens</td>\n",
       "      <td>40.65979</td>\n",
       "      <td>-73.96180</td>\n",
       "      <td>Entire home/apt</td>\n",
       "      <td>91</td>\n",
       "      <td>14</td>\n",
       "      <td>97</td>\n",
       "      <td>2018-01-31</td>\n",
       "      <td>0.83</td>\n",
       "      <td>1</td>\n",
       "      <td>44</td>\n",
       "    </tr>\n",
       "    <tr>\n",
       "      <th>209</th>\n",
       "      <td>62903</td>\n",
       "      <td>Beautiful modern studio apartment in heart of NYC</td>\n",
       "      <td>306605</td>\n",
       "      <td>Daniel</td>\n",
       "      <td>Manhattan</td>\n",
       "      <td>Chelsea</td>\n",
       "      <td>40.74238</td>\n",
       "      <td>-73.99567</td>\n",
       "      <td>Entire home/apt</td>\n",
       "      <td>205</td>\n",
       "      <td>15</td>\n",
       "      <td>68</td>\n",
       "      <td>2019-12-14</td>\n",
       "      <td>0.67</td>\n",
       "      <td>2</td>\n",
       "      <td>89</td>\n",
       "    </tr>\n",
       "    <tr>\n",
       "      <th>220</th>\n",
       "      <td>64015</td>\n",
       "      <td>Prime East Village 1 Bedroom</td>\n",
       "      <td>146944</td>\n",
       "      <td>David</td>\n",
       "      <td>Manhattan</td>\n",
       "      <td>East Village</td>\n",
       "      <td>40.72807</td>\n",
       "      <td>-73.98594</td>\n",
       "      <td>Entire home/apt</td>\n",
       "      <td>200</td>\n",
       "      <td>3</td>\n",
       "      <td>0</td>\n",
       "      <td>NaN</td>\n",
       "      <td>NaN</td>\n",
       "      <td>1</td>\n",
       "      <td>0</td>\n",
       "    </tr>\n",
       "    <tr>\n",
       "      <th>260</th>\n",
       "      <td>74073</td>\n",
       "      <td>Food &amp; Music Dream Apartment in Williamsburg</td>\n",
       "      <td>211877</td>\n",
       "      <td>Daniel</td>\n",
       "      <td>Brooklyn</td>\n",
       "      <td>Williamsburg</td>\n",
       "      <td>40.71113</td>\n",
       "      <td>-73.96054</td>\n",
       "      <td>Entire home/apt</td>\n",
       "      <td>187</td>\n",
       "      <td>30</td>\n",
       "      <td>90</td>\n",
       "      <td>2020-07-31</td>\n",
       "      <td>0.81</td>\n",
       "      <td>1</td>\n",
       "      <td>261</td>\n",
       "    </tr>\n",
       "    <tr>\n",
       "      <th>...</th>\n",
       "      <td>...</td>\n",
       "      <td>...</td>\n",
       "      <td>...</td>\n",
       "      <td>...</td>\n",
       "      <td>...</td>\n",
       "      <td>...</td>\n",
       "      <td>...</td>\n",
       "      <td>...</td>\n",
       "      <td>...</td>\n",
       "      <td>...</td>\n",
       "      <td>...</td>\n",
       "      <td>...</td>\n",
       "      <td>...</td>\n",
       "      <td>...</td>\n",
       "      <td>...</td>\n",
       "      <td>...</td>\n",
       "    </tr>\n",
       "    <tr>\n",
       "      <th>46362</th>\n",
       "      <td>44639591</td>\n",
       "      <td>Central &amp; Stylish 1 Bedroom Apt - Heart of Che...</td>\n",
       "      <td>286136716</td>\n",
       "      <td>John</td>\n",
       "      <td>Manhattan</td>\n",
       "      <td>Chelsea</td>\n",
       "      <td>40.74568</td>\n",
       "      <td>-73.99694</td>\n",
       "      <td>Entire home/apt</td>\n",
       "      <td>110</td>\n",
       "      <td>30</td>\n",
       "      <td>0</td>\n",
       "      <td>NaN</td>\n",
       "      <td>NaN</td>\n",
       "      <td>3</td>\n",
       "      <td>110</td>\n",
       "    </tr>\n",
       "    <tr>\n",
       "      <th>46396</th>\n",
       "      <td>44661297</td>\n",
       "      <td>Flushing Sunshine home  #101</td>\n",
       "      <td>361579037</td>\n",
       "      <td>Daniel</td>\n",
       "      <td>Queens</td>\n",
       "      <td>Flushing</td>\n",
       "      <td>40.74603</td>\n",
       "      <td>-73.82837</td>\n",
       "      <td>Private room</td>\n",
       "      <td>52</td>\n",
       "      <td>1</td>\n",
       "      <td>0</td>\n",
       "      <td>NaN</td>\n",
       "      <td>NaN</td>\n",
       "      <td>2</td>\n",
       "      <td>360</td>\n",
       "    </tr>\n",
       "    <tr>\n",
       "      <th>46403</th>\n",
       "      <td>44662157</td>\n",
       "      <td>Flushing Sunshine home #102</td>\n",
       "      <td>361579037</td>\n",
       "      <td>Daniel</td>\n",
       "      <td>Queens</td>\n",
       "      <td>Flushing</td>\n",
       "      <td>40.74441</td>\n",
       "      <td>-73.82829</td>\n",
       "      <td>Private room</td>\n",
       "      <td>55</td>\n",
       "      <td>1</td>\n",
       "      <td>3</td>\n",
       "      <td>2020-08-16</td>\n",
       "      <td>3.00</td>\n",
       "      <td>2</td>\n",
       "      <td>365</td>\n",
       "    </tr>\n",
       "    <tr>\n",
       "      <th>46455</th>\n",
       "      <td>44697211</td>\n",
       "      <td>David’s Queen Sized Room</td>\n",
       "      <td>343477029</td>\n",
       "      <td>David</td>\n",
       "      <td>Queens</td>\n",
       "      <td>Far Rockaway</td>\n",
       "      <td>40.59460</td>\n",
       "      <td>-73.75875</td>\n",
       "      <td>Private room</td>\n",
       "      <td>95</td>\n",
       "      <td>1</td>\n",
       "      <td>0</td>\n",
       "      <td>NaN</td>\n",
       "      <td>NaN</td>\n",
       "      <td>1</td>\n",
       "      <td>365</td>\n",
       "    </tr>\n",
       "    <tr>\n",
       "      <th>46508</th>\n",
       "      <td>44797527</td>\n",
       "      <td>Long-Term: Furnished Apt in Nolita w/ Amenities</td>\n",
       "      <td>19448640</td>\n",
       "      <td>David</td>\n",
       "      <td>Manhattan</td>\n",
       "      <td>Nolita</td>\n",
       "      <td>40.72289</td>\n",
       "      <td>-73.99400</td>\n",
       "      <td>Entire home/apt</td>\n",
       "      <td>140</td>\n",
       "      <td>30</td>\n",
       "      <td>0</td>\n",
       "      <td>NaN</td>\n",
       "      <td>NaN</td>\n",
       "      <td>1</td>\n",
       "      <td>282</td>\n",
       "    </tr>\n",
       "  </tbody>\n",
       "</table>\n",
       "<p>1258 rows × 16 columns</p>\n",
       "</div>"
      ],
      "text/plain": [
       "             id                                               name    host_id  \\\n",
       "52        16595  LOFT HAVEN ~ Six Windows ~ Bricks ~ Plants ~ Q...      64522   \n",
       "201       61747              Cozy,  Brooklyn, Prospect Park Studio     299370   \n",
       "209       62903  Beautiful modern studio apartment in heart of NYC     306605   \n",
       "220       64015                       Prime East Village 1 Bedroom     146944   \n",
       "260       74073       Food & Music Dream Apartment in Williamsburg     211877   \n",
       "...         ...                                                ...        ...   \n",
       "46362  44639591  Central & Stylish 1 Bedroom Apt - Heart of Che...  286136716   \n",
       "46396  44661297                       Flushing Sunshine home  #101  361579037   \n",
       "46403  44662157                        Flushing Sunshine home #102  361579037   \n",
       "46455  44697211                           David’s Queen Sized Room  343477029   \n",
       "46508  44797527    Long-Term: Furnished Apt in Nolita w/ Amenities   19448640   \n",
       "\n",
       "      host_name neighbourhood_group              neighbourhood  latitude  \\\n",
       "52       Daniel            Brooklyn               Williamsburg  40.70933   \n",
       "201       David            Brooklyn  Prospect-Lefferts Gardens  40.65979   \n",
       "209      Daniel           Manhattan                    Chelsea  40.74238   \n",
       "220       David           Manhattan               East Village  40.72807   \n",
       "260      Daniel            Brooklyn               Williamsburg  40.71113   \n",
       "...         ...                 ...                        ...       ...   \n",
       "46362      John           Manhattan                    Chelsea  40.74568   \n",
       "46396    Daniel              Queens                   Flushing  40.74603   \n",
       "46403    Daniel              Queens                   Flushing  40.74441   \n",
       "46455     David              Queens               Far Rockaway  40.59460   \n",
       "46508     David           Manhattan                     Nolita  40.72289   \n",
       "\n",
       "       longitude        room_type  price  minimum_nights  number_of_reviews  \\\n",
       "52     -73.96792  Entire home/apt    271               1                172   \n",
       "201    -73.96180  Entire home/apt     91              14                 97   \n",
       "209    -73.99567  Entire home/apt    205              15                 68   \n",
       "220    -73.98594  Entire home/apt    200               3                  0   \n",
       "260    -73.96054  Entire home/apt    187              30                 90   \n",
       "...          ...              ...    ...             ...                ...   \n",
       "46362  -73.99694  Entire home/apt    110              30                  0   \n",
       "46396  -73.82837     Private room     52               1                  0   \n",
       "46403  -73.82829     Private room     55               1                  3   \n",
       "46455  -73.75875     Private room     95               1                  0   \n",
       "46508  -73.99400  Entire home/apt    140              30                  0   \n",
       "\n",
       "      last_review  reviews_per_month  calculated_host_listings_count  \\\n",
       "52     2020-07-14               1.44                               1   \n",
       "201    2018-01-31               0.83                               1   \n",
       "209    2019-12-14               0.67                               2   \n",
       "220           NaN                NaN                               1   \n",
       "260    2020-07-31               0.81                               1   \n",
       "...           ...                ...                             ...   \n",
       "46362         NaN                NaN                               3   \n",
       "46396         NaN                NaN                               2   \n",
       "46403  2020-08-16               3.00                               2   \n",
       "46455         NaN                NaN                               1   \n",
       "46508         NaN                NaN                               1   \n",
       "\n",
       "       availability_365  \n",
       "52                  365  \n",
       "201                  44  \n",
       "209                  89  \n",
       "220                   0  \n",
       "260                 261  \n",
       "...                 ...  \n",
       "46362               110  \n",
       "46396               360  \n",
       "46403               365  \n",
       "46455               365  \n",
       "46508               282  \n",
       "\n",
       "[1258 rows x 16 columns]"
      ]
     },
     "execution_count": 40,
     "metadata": {},
     "output_type": "execute_result"
    }
   ],
   "source": [
    "# 4. Using `.isin()` select anyone that has the host name of Michael, David, John, and Daniel.\n",
    "# How many total are there that have those name\n",
    "df[df['host_name'].isin(['Michael', 'David' , 'John' , 'Daniel'])]\n",
    "\n",
    "#Shows 1258 rows which means that is the total there are with these names"
   ]
  },
  {
   "cell_type": "code",
   "execution_count": null,
   "metadata": {},
   "outputs": [
    {
     "name": "stdout",
     "output_type": "stream",
     "text": [
      "0        175\n",
      "1         75\n",
      "2         60\n",
      "3        175\n",
      "4         65\n",
      "        ... \n",
      "46522    145\n",
      "46523     87\n",
      "46524     59\n",
      "46525     80\n",
      "46526     66\n",
      "Name: adjusted_price, Length: 46527, dtype: int64\n"
     ]
    }
   ],
   "source": [
    "# 5. Create a new column called `adjusted_price` that has $100 added to every listing in Williamsburg.  \n",
    "# The prices for all other listings should be the same as the were before.\n",
    "\n",
    "df['adjusted_price'] = df['price'] + df['neighbourhood'].eq('Williamsburg') * 100"
   ]
  },
  {
   "cell_type": "code",
   "execution_count": 57,
   "metadata": {},
   "outputs": [
    {
     "name": "stdout",
     "output_type": "stream",
     "text": [
      "room_type\n",
      "Entire home/apt    51.578653\n",
      "Private room       45.444581\n",
      "Shared room         2.121349\n",
      "Hotel room          0.855417\n",
      "Name: proportion, dtype: float64\n"
     ]
    }
   ],
   "source": [
    "# 6. What % of the rooms are private, and what % of the rooms are shared.\n",
    "room_percent = df['room_type'].value_counts(normalize=True) * 100\n",
    "print(room_percent)\n",
    "\n"
   ]
  },
  {
   "cell_type": "markdown",
   "metadata": {},
   "source": [
    "# Exercise 3 - Grouping\n",
    "\n",
    "1. Using `groupby`, count how many listings are in each neighbourhood_group.\n",
    "\n",
    "\n",
    "2. Using `groupby`, find the mean price for each of the neighbourhood_groups. \n",
    "\n",
    "\n",
    "3. Using `groupby` and `.agg()`, find the min and max price for each of the neighbourhood_groups. \n",
    "\n",
    "\n",
    "4. Using `groupby`, find the median price for each room type in each neighbourhood_group.\n",
    "\n",
    "\n",
    "5. Using `groupby` and `.agg()`, find the count, min, max, mean, median, and std of the prices for each room type in each neighbourhood_group."
   ]
  },
  {
   "cell_type": "code",
   "execution_count": 58,
   "metadata": {},
   "outputs": [
    {
     "data": {
      "text/plain": [
       "neighbourhood_group\n",
       "Bronx             1183\n",
       "Brooklyn         18632\n",
       "Manhattan        20580\n",
       "Queens            5791\n",
       "Staten Island      341\n",
       "dtype: int64"
      ]
     },
     "execution_count": 58,
     "metadata": {},
     "output_type": "execute_result"
    }
   ],
   "source": [
    "# 1. Using `groupby`, count how many listings are in each neighbourhood_group.\n",
    "\n",
    "df.groupby('neighbourhood_group').size()"
   ]
  },
  {
   "cell_type": "code",
   "execution_count": null,
   "metadata": {},
   "outputs": [],
   "source": [
    "# 2. Using `groupby`, find the mean price for each of the neighbourhood_groups.\n",
    "\n",
    "df.groupby('neighbourhood_group')['price'].mean()"
   ]
  },
  {
   "cell_type": "code",
   "execution_count": 61,
   "metadata": {},
   "outputs": [
    {
     "data": {
      "text/plain": [
       "room_type\n",
       "Entire home/apt    199.395950\n",
       "Hotel room         275.015075\n",
       "Private room        91.453084\n",
       "Shared room         87.063830\n",
       "Name: price, dtype: float64"
      ]
     },
     "execution_count": 61,
     "metadata": {},
     "output_type": "execute_result"
    }
   ],
   "source": [
    "# 2.5. Using `groupby`, find the mean price for each room_type.\n",
    "\n",
    "df.groupby('room_type')['price'].mean()\n"
   ]
  },
  {
   "cell_type": "code",
   "execution_count": 60,
   "metadata": {},
   "outputs": [
    {
     "data": {
      "text/html": [
       "<div>\n",
       "<style scoped>\n",
       "    .dataframe tbody tr th:only-of-type {\n",
       "        vertical-align: middle;\n",
       "    }\n",
       "\n",
       "    .dataframe tbody tr th {\n",
       "        vertical-align: top;\n",
       "    }\n",
       "\n",
       "    .dataframe thead th {\n",
       "        text-align: right;\n",
       "    }\n",
       "</style>\n",
       "<table border=\"1\" class=\"dataframe\">\n",
       "  <thead>\n",
       "    <tr style=\"text-align: right;\">\n",
       "      <th></th>\n",
       "      <th>min</th>\n",
       "      <th>max</th>\n",
       "    </tr>\n",
       "    <tr>\n",
       "      <th>neighbourhood_group</th>\n",
       "      <th></th>\n",
       "      <th></th>\n",
       "    </tr>\n",
       "  </thead>\n",
       "  <tbody>\n",
       "    <tr>\n",
       "      <th>Bronx</th>\n",
       "      <td>16</td>\n",
       "      <td>1404</td>\n",
       "    </tr>\n",
       "    <tr>\n",
       "      <th>Brooklyn</th>\n",
       "      <td>0</td>\n",
       "      <td>10000</td>\n",
       "    </tr>\n",
       "    <tr>\n",
       "      <th>Manhattan</th>\n",
       "      <td>0</td>\n",
       "      <td>10000</td>\n",
       "    </tr>\n",
       "    <tr>\n",
       "      <th>Queens</th>\n",
       "      <td>0</td>\n",
       "      <td>10000</td>\n",
       "    </tr>\n",
       "    <tr>\n",
       "      <th>Staten Island</th>\n",
       "      <td>19</td>\n",
       "      <td>1200</td>\n",
       "    </tr>\n",
       "  </tbody>\n",
       "</table>\n",
       "</div>"
      ],
      "text/plain": [
       "                     min    max\n",
       "neighbourhood_group            \n",
       "Bronx                 16   1404\n",
       "Brooklyn               0  10000\n",
       "Manhattan              0  10000\n",
       "Queens                 0  10000\n",
       "Staten Island         19   1200"
      ]
     },
     "execution_count": 60,
     "metadata": {},
     "output_type": "execute_result"
    }
   ],
   "source": [
    "# 3. Using `groupby` and `.agg()`, find the min and max price for each of the neighbourhood_groups.\n",
    "\n",
    "df.groupby('neighbourhood_group')['price'].agg(['min', 'max'])\n"
   ]
  },
  {
   "cell_type": "code",
   "execution_count": null,
   "metadata": {},
   "outputs": [],
   "source": [
    "# 4. Using `groupby`, find the median price for each room_type in each neighbourhood_group.\n",
    "\n",
    "df.groupby(['neighbourhood_group', 'room_type'])['price'].median()\n",
    "\n"
   ]
  },
  {
   "cell_type": "code",
   "execution_count": null,
   "metadata": {},
   "outputs": [],
   "source": [
    "# 5. Using `groupby` and `.agg()`, find the count, min, max, mean, median, and std of the prices \n",
    "# for each room type in each neighbourhood_group.\n",
    "\n",
    "df.groupby(['room_type', 'neighbourhood_group'])['price'].agg(['count', 'min', 'max', 'mean', 'median', 'std'])\n",
    "\n",
    "\n"
   ]
  },
  {
   "cell_type": "markdown",
   "metadata": {},
   "source": [
    "# Load, Merge, and Export files.\n",
    "1. Load the `prices.csv` and the `n_listings.csv`\n",
    "    * Having an error..? Inspect the actual csv file if you're having trouble\n",
    "\n",
    "2. Do join that keeps all the records for each table.\n",
    "    * Neighbourhood groups should include ['Bronx', 'Brooklyn', 'Manhattan', 'Queens', 'Staten Island',\n",
    "       'LongIsland']\n",
    "\n",
    "       \n",
    "3. Save your joined csv as `joined.csv` into the data folder. \n",
    "\n",
    "\n",
    "4. Load your saved table and see if it looks the same or different that the DataFrame you used to create it. "
   ]
  },
  {
   "cell_type": "code",
   "execution_count": null,
   "metadata": {},
   "outputs": [],
   "source": [
    "# 1. Load the `prices.csv` and the `n_listings.csv`\n",
    "\n",
    "prices_df = pd.read_csv('../data/prices.csv')\n",
    "n_listings_df = pd.read_csv('../data/n_listings.csv')\n",
    "\n",
    "print(\"Prices DataFrame shape:\", prices_df.shape)\n",
    "print(\"N_listings DataFrame shape:\", n_listings_df.shape)\n",
    "print(\"\\nPrices columns:\", prices_df.columns.tolist())\n",
    "print(\"N_listings columns:\", n_listings_df.columns.tolist())"
   ]
  },
  {
   "cell_type": "code",
   "execution_count": null,
   "metadata": {},
   "outputs": [],
   "source": [
    "# 2. Do join that keeps all the records for each table.\n",
    "\n",
    "# Outer join to keep all records from both tables\n",
    "joined_df = pd.merge(prices_df, n_listings_df, on='neighbourhood_group', how='outer')\n",
    "\n",
    "print(\"Joined DataFrame shape:\", joined_df.shape)\n",
    "print(\"Neighbourhood groups:\", joined_df['neighbourhood_group'].unique())\n",
    "joined_df.head()\n",
    "\n"
   ]
  },
  {
   "cell_type": "code",
   "execution_count": null,
   "metadata": {},
   "outputs": [],
   "source": [
    "# 3. Save your joined csv as `joined.csv` into the data folder.\n",
    "\n",
    "joined_df.to_csv('../data/joined.csv', index=False)\n",
    "print(\"File saved as '../data/joined.csv'\") "
   ]
  },
  {
   "cell_type": "code",
   "execution_count": null,
   "metadata": {},
   "outputs": [],
   "source": [
    "# 4. Load your newly saved file, see if it looks the same.  If not, try saving with argument `index=False`\n",
    "\n",
    "# Load the saved file\n",
    "loaded_df = pd.read_csv('../data/joined.csv')\n",
    "\n",
    "print(\"Original DataFrame shape:\", joined_df.shape)\n",
    "print(\"Loaded DataFrame shape:\", loaded_df.shape)\n",
    "print(\"\\nDataFrames are equal:\", joined_df.equals(loaded_df))\n",
    "\n",
    "loaded_df.head()"
   ]
  },
  {
   "cell_type": "markdown",
   "metadata": {},
   "source": [
    "# Extra Credit\n",
    "Every question below this cell is extra credit and optional."
   ]
  },
  {
   "cell_type": "markdown",
   "metadata": {},
   "source": [
    "### 1. (Easy) Explore this new PandasAI Package and tell me what its all about because I've never used it. \n",
    "* https://www.youtube.com/watch?v=5w6eZaoDVVk&ab_channel=CodingIsFun  \n",
    "* See if you can use it on the listings.csv to find out some cool info. or answer some of the questions above. "
   ]
  },
  {
   "cell_type": "markdown",
   "metadata": {},
   "source": [
    "### 2. (Very Easy) Find other cool Panda packages / add ons and show us what they can do well. And how you installed them. "
   ]
  },
  {
   "cell_type": "markdown",
   "metadata": {},
   "source": [
    "### 3. (Medium) Use the grammys.csv data for the next section of questions.\n",
    "\n",
    "1. Who was won Album of the Year in 2016?\n",
    "\n",
    "\n",
    "2. Who won Best Rap Album in 2009?\n",
    "\n",
    "\n",
    "3. How many awards was Kendrick Lamar nomiated for, and how many did he win...?"
   ]
  },
  {
   "cell_type": "code",
   "execution_count": null,
   "metadata": {},
   "outputs": [],
   "source": [
    "# Load the Grammy data\n",
    "grammys_df = pd.read_csv('../data/grammys.csv')\n",
    "\n",
    "print(\"Grammy data shape:\", grammys_df.shape)\n",
    "print(\"Columns:\", grammys_df.columns.tolist())\n",
    "print(\"\\nFirst few rows:\")\n",
    "grammys_df.head()\n"
   ]
  },
  {
   "cell_type": "code",
   "execution_count": null,
   "metadata": {},
   "outputs": [],
   "source": [
    "# 1. Who won Album of the Year in 2016?\n",
    "\n",
    "album_2016 = grammys_df[\n",
    "    (grammys_df['year'] == 2016) & \n",
    "    (grammys_df['category'] == 'Album Of The Year') & \n",
    "    (grammys_df['winner'] == True)\n",
    "]\n",
    "\n",
    "print(\"Album of the Year winner in 2016:\")\n",
    "if not album_2016.empty:\n",
    "    print(f\"Artist: {album_2016['artist'].values[0]}\")\n",
    "    print(f\"Album: {album_2016['title'].values[0]}\")\n",
    "else:\n",
    "    print(\"No winner found - let's check available categories and years\")\n",
    "    print(\"Available categories:\", grammys_df['category'].unique()[:10])\n",
    "    print(\"Available years:\", sorted(grammys_df['year'].unique()))\n"
   ]
  },
  {
   "cell_type": "code",
   "execution_count": null,
   "metadata": {},
   "outputs": [],
   "source": [
    "# 2. Who won Best Rap Album in 2009?\n",
    "\n",
    "rap_2009 = grammys_df[\n",
    "    (grammys_df['year'] == 2009) & \n",
    "    (grammys_df['category'].str.contains('Rap Album', case=False, na=False)) & \n",
    "    (grammys_df['winner'] == True)\n",
    "]\n",
    "\n",
    "print(\"Best Rap Album winner in 2009:\")\n",
    "if not rap_2009.empty:\n",
    "    print(f\"Artist: {rap_2009['artist'].values[0]}\")\n",
    "    print(f\"Album: {rap_2009['title'].values[0]}\")\n",
    "    print(f\"Category: {rap_2009['category'].values[0]}\")\n",
    "else:\n",
    "    # Let's check what rap categories exist\n",
    "    rap_categories = grammys_df[grammys_df['category'].str.contains('Rap', case=False, na=False)]['category'].unique()\n",
    "    print(\"No exact match found. Available Rap categories:\")\n",
    "    for cat in rap_categories:\n",
    "        print(f\"  - {cat}\")\n"
   ]
  },
  {
   "cell_type": "code",
   "execution_count": null,
   "metadata": {},
   "outputs": [],
   "source": [
    "# 3. How many awards was Kendrick Lamar nominated for, and how many did he win?\n",
    "\n",
    "# Find all Kendrick Lamar nominations\n",
    "kendrick_nominations = grammys_df[grammys_df['artist'].str.contains('Kendrick Lamar', case=False, na=False)]\n",
    "\n",
    "# Count total nominations\n",
    "total_nominations = len(kendrick_nominations)\n",
    "\n",
    "# Count wins\n",
    "total_wins = len(kendrick_nominations[kendrick_nominations['winner'] == True])\n",
    "\n",
    "print(f\"Kendrick Lamar Grammy Statistics:\")\n",
    "print(f\"Total Nominations: {total_nominations}\")\n",
    "print(f\"Total Wins: {total_wins}\")\n",
    "print(f\"Win Rate: {(total_wins/total_nominations*100):.1f}%\" if total_nominations > 0 else \"No nominations found\")\n",
    "\n",
    "print(\"\\nKendrick Lamar's Grammy wins:\")\n",
    "kendrick_wins = kendrick_nominations[kendrick_nominations['winner'] == True]\n",
    "for _, row in kendrick_wins.iterrows():\n",
    "    print(f\"  {row['year']}: {row['category']} - '{row['title']}'\")\n",
    "\n",
    "print(f\"\\nSample nominations:\")\n",
    "kendrick_nominations[['year', 'category', 'title', 'winner']].head(10)\n"
   ]
  },
  {
   "cell_type": "markdown",
   "metadata": {},
   "source": [
    "### (Hard) Load the Game Logs for 2022 and add the column names using a dictionary.  \n",
    "* [Link to the data page](https://www.retrosheet.org/gamelogs/)\n",
    "* [Link to the column names](https://procatinator.com/)\n",
    "* haha, gotta find them yourself!"
   ]
  },
  {
   "cell_type": "markdown",
   "metadata": {},
   "source": [
    "### (Extra Hard) Download the files for the past 5 years into a new folder and add them all into one data frame using pandas, then save that new file.\n",
    "* Try to not hard code in the file names. We want to do this programmatically because what if we want to add new/more file names in the future."
   ]
  },
  {
   "cell_type": "code",
   "execution_count": null,
   "metadata": {},
   "outputs": [],
   "source": []
  }
 ],
 "metadata": {
  "kernelspec": {
   "display_name": "Python 3",
   "language": "python",
   "name": "python3"
  },
  "language_info": {
   "codemirror_mode": {
    "name": "ipython",
    "version": 3
   },
   "file_extension": ".py",
   "mimetype": "text/x-python",
   "name": "python",
   "nbconvert_exporter": "python",
   "pygments_lexer": "ipython3",
   "version": "3.12.1"
  }
 },
 "nbformat": 4,
 "nbformat_minor": 4
}
