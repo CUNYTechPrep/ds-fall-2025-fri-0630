{
 "cells": [
  {
   "cell_type": "markdown",
   "metadata": {},
   "source": [
    "# Fall 2024 Data Science Track: Week 2 - Data Cleaning Exercise"
   ]
  },
  {
   "cell_type": "markdown",
   "metadata": {},
   "source": [
    "## Packages, Packages, Packages!\n",
    "\n",
    "Import *all* the things here! You need the standard stuff: `pandas` and `numpy`.\n",
    "\n",
    "If you got more stuff you want to use, add them here too. 🙂"
   ]
  },
  {
   "cell_type": "code",
   "execution_count": 1,
   "metadata": {},
   "outputs": [],
   "source": [
    "# Import here.\n",
    "import pandas as pd\n",
    "import numpy as np\n"
   ]
  },
  {
   "cell_type": "markdown",
   "metadata": {},
   "source": [
    "## Introduction\n",
    "\n",
    "With the packages out of the way, now you will be working with the following data sets:\n",
    "\n",
    "* `food_coded.csv`: [Food choices](https://www.kaggle.com/datasets/borapajo/food-choices?select=food_coded.csv) from Kaggle\n",
    "* `Ask A Manager Salary Survey 2021 (Responses) - Form Responses 1.tsv`: [Ask A Manager Salary Survey 2021 (Responses)](https://docs.google.com/spreadsheets/d/1IPS5dBSGtwYVbjsfbaMCYIWnOuRmJcbequohNxCyGVw/view?&gid=1625408792) as *Tab Separated Values (.tsv)* from Google Docs\n",
    "\n",
    "Each one poses different challenges. But you’ll―of course―overcome them with what you learned in class! 😉"
   ]
  },
  {
   "cell_type": "markdown",
   "metadata": {},
   "source": [
    "## Food Choices Data Set"
   ]
  },
  {
   "cell_type": "markdown",
   "metadata": {},
   "source": [
    "### Load the Data"
   ]
  },
  {
   "cell_type": "code",
   "execution_count": 5,
   "metadata": {},
   "outputs": [],
   "source": [
    "# Load the Food choices data set into a variable (e.g., df_food).\n",
    "\n",
    "food_data_set_path = '../data/food_coded.csv'\n",
    "\n",
    "df_food = pd.read_csv(food_data_set_path)"
   ]
  },
  {
   "cell_type": "markdown",
   "metadata": {},
   "source": [
    "### Explore the Data"
   ]
  },
  {
   "cell_type": "markdown",
   "metadata": {},
   "source": [
    "How much data did you just load?"
   ]
  },
  {
   "cell_type": "code",
   "execution_count": 7,
   "metadata": {},
   "outputs": [
    {
     "name": "stdout",
     "output_type": "stream",
     "text": [
      "(125, 61)\n"
     ]
    }
   ],
   "source": [
    "# Count by hand. (lol kidding)\n",
    "print(df_food.shape)"
   ]
  },
  {
   "cell_type": "markdown",
   "metadata": {},
   "source": [
    "What are the columns and their types in this data set?"
   ]
  },
  {
   "cell_type": "code",
   "execution_count": 10,
   "metadata": {},
   "outputs": [
    {
     "name": "stdout",
     "output_type": "stream",
     "text": [
      "GPA                  object\n",
      "Gender                int64\n",
      "breakfast             int64\n",
      "calories_chicken      int64\n",
      "calories_day        float64\n",
      "                     ...   \n",
      "type_sports          object\n",
      "veggies_day           int64\n",
      "vitamins              int64\n",
      "waffle_calories       int64\n",
      "weight               object\n",
      "Length: 61, dtype: object\n"
     ]
    }
   ],
   "source": [
    "# Show the column names and their types.\n",
    "\n",
    "print(df_food.dtypes)\n"
   ]
  },
  {
   "cell_type": "markdown",
   "metadata": {},
   "source": [
    "### Clean the Data\n",
    "\n",
    "Perhaps we’d like to know more another day, but the team is really interested in just the relationship between calories (`calories_day`) and weight. …and maybe gender."
   ]
  },
  {
   "cell_type": "markdown",
   "metadata": {},
   "source": [
    "Can you remove the other columns?"
   ]
  },
  {
   "cell_type": "code",
   "execution_count": 12,
   "metadata": {},
   "outputs": [
    {
     "name": "stdout",
     "output_type": "stream",
     "text": [
      "   calories_day                    weight  Gender\n",
      "0           NaN                       187       2\n",
      "1           3.0                       155       1\n",
      "2           4.0  I'm not answering this.        1\n",
      "3           3.0             Not sure, 240       1\n",
      "4           2.0                       190       1\n"
     ]
    }
   ],
   "source": [
    "# Remove ‘em.\n",
    "df_food = df_food[[\"calories_day\", \"weight\", \"Gender\"]]\n",
    "print(df_food.head())"
   ]
  },
  {
   "cell_type": "markdown",
   "metadata": {},
   "source": [
    "What about `NaN`s? How many are there?"
   ]
  },
  {
   "cell_type": "code",
   "execution_count": 13,
   "metadata": {},
   "outputs": [
    {
     "name": "stdout",
     "output_type": "stream",
     "text": [
      "calories_day    19\n",
      "weight           2\n",
      "Gender           0\n",
      "dtype: int64\n"
     ]
    }
   ],
   "source": [
    "# Count ‘em.\n",
    "print(df_food.isna().sum())\n"
   ]
  },
  {
   "cell_type": "markdown",
   "metadata": {},
   "source": [
    "We gotta remove those `NaN`s―the entire row."
   ]
  },
  {
   "cell_type": "code",
   "execution_count": 14,
   "metadata": {},
   "outputs": [
    {
     "name": "stdout",
     "output_type": "stream",
     "text": [
      "(104, 3)\n"
     ]
    }
   ],
   "source": [
    "# Drop ‘em.\n",
    "df_food = df_food.dropna()\n",
    "print(df_food.shape)\n"
   ]
  },
  {
   "cell_type": "markdown",
   "metadata": {},
   "source": [
    "But what about the weird non-numeric values in the column obviously meant for numeric data?\n",
    "\n",
    "Notice the data type of that column from when you got the types of all the columns?\n",
    "\n",
    "If only we could convert the column to a numeric type and drop the rows with invalid values. 🤔"
   ]
  },
  {
   "cell_type": "code",
   "execution_count": 16,
   "metadata": {},
   "outputs": [
    {
     "name": "stdout",
     "output_type": "stream",
     "text": [
      "calories_day    float64\n",
      "weight          float64\n",
      "Gender            int64\n",
      "dtype: object\n",
      "(101, 3)\n"
     ]
    }
   ],
   "source": [
    "# Fix that.\n",
    "df_food[\"calories_day\"] = pd.to_numeric(df_food[\"calories_day\"], errors=\"coerce\")\n",
    "df_food[\"weight\"] = pd.to_numeric(df_food[\"weight\"], errors = \"coerce\")\n",
    "df_food = df_food.dropna()\n",
    "\n",
    "print(df_food.dtypes)\n",
    "print(df_food.shape)\n",
    "\n"
   ]
  },
  {
   "cell_type": "markdown",
   "metadata": {},
   "source": [
    "Now this data seems reasonably clean for our purposes! 😁\n",
    "\n",
    "Let’s save it somewhere to be shipped off to another teammate. 💾"
   ]
  },
  {
   "cell_type": "code",
   "execution_count": 17,
   "metadata": {},
   "outputs": [],
   "source": [
    "# Savey save!\n",
    "output_path = \"../data/food_coded_clean.csv\"\n",
    "df_food.to_csv(output_path, index=False)\n",
    "\n",
    "\n"
   ]
  },
  {
   "cell_type": "markdown",
   "metadata": {},
   "source": [
    "## Ask a Manager Salary Survey 2021 (Responses) Data Set"
   ]
  },
  {
   "cell_type": "markdown",
   "metadata": {},
   "source": [
    "### Load the Data"
   ]
  },
  {
   "cell_type": "code",
   "execution_count": 24,
   "metadata": {},
   "outputs": [
    {
     "name": "stdout",
     "output_type": "stream",
     "text": [
      "            Timestamp How old are you?  What industry do you work in?  \\\n",
      "0  4/27/2021 11:02:10            25-34   Education (Higher Education)   \n",
      "1  4/27/2021 11:02:22            25-34              Computing or Tech   \n",
      "2  4/27/2021 11:02:38            25-34  Accounting, Banking & Finance   \n",
      "3  4/27/2021 11:02:41            25-34                     Nonprofits   \n",
      "4  4/27/2021 11:02:42            25-34  Accounting, Banking & Finance   \n",
      "\n",
      "                                  Job title  \\\n",
      "0        Research and Instruction Librarian   \n",
      "1  Change & Internal Communications Manager   \n",
      "2                      Marketing Specialist   \n",
      "3                           Program Manager   \n",
      "4                        Accounting Manager   \n",
      "\n",
      "  If your job title needs additional context, please clarify here:  \\\n",
      "0                                                NaN                 \n",
      "1                                                NaN                 \n",
      "2                                                NaN                 \n",
      "3                                                NaN                 \n",
      "4                                                NaN                 \n",
      "\n",
      "  What is your annual salary? (You'll indicate the currency in a later question. If you are part-time or hourly, please enter an annualized equivalent -- what you would earn if you worked the job 40 hours a week, 52 weeks a year.)  \\\n",
      "0                                             55,000                                                                                                                                                                                     \n",
      "1                                             54,600                                                                                                                                                                                     \n",
      "2                                             34,000                                                                                                                                                                                     \n",
      "3                                             62,000                                                                                                                                                                                     \n",
      "4                                             60,000                                                                                                                                                                                     \n",
      "\n",
      "   How much additional monetary compensation do you get, if any (for example, bonuses or overtime in an average year)? Please only include monetary compensation here, not the value of benefits.  \\\n",
      "0                                                0.0                                                                                                                                                \n",
      "1                                             4000.0                                                                                                                                                \n",
      "2                                                NaN                                                                                                                                                \n",
      "3                                             3000.0                                                                                                                                                \n",
      "4                                             7000.0                                                                                                                                                \n",
      "\n",
      "  Please indicate the currency  \\\n",
      "0                          USD   \n",
      "1                          GBP   \n",
      "2                          USD   \n",
      "3                          USD   \n",
      "4                          USD   \n",
      "\n",
      "  If \"Other,\" please indicate the currency here:   \\\n",
      "0                                             NaN   \n",
      "1                                             NaN   \n",
      "2                                             NaN   \n",
      "3                                             NaN   \n",
      "4                                             NaN   \n",
      "\n",
      "  If your income needs additional context, please provide it here:  \\\n",
      "0                                                NaN                 \n",
      "1                                                NaN                 \n",
      "2                                                NaN                 \n",
      "3                                                NaN                 \n",
      "4                                                NaN                 \n",
      "\n",
      "  What country do you work in?  \\\n",
      "0                United States   \n",
      "1               United Kingdom   \n",
      "2                           US   \n",
      "3                          USA   \n",
      "4                           US   \n",
      "\n",
      "  If you're in the U.S., what state do you work in? What city do you work in?  \\\n",
      "0                                     Massachusetts                    Boston   \n",
      "1                                               NaN                 Cambridge   \n",
      "2                                         Tennessee               Chattanooga   \n",
      "3                                         Wisconsin                 Milwaukee   \n",
      "4                                    South Carolina                Greenville   \n",
      "\n",
      "  How many years of professional work experience do you have overall?  \\\n",
      "0                                          5-7 years                    \n",
      "1                                       8 - 10 years                    \n",
      "2                                        2 - 4 years                    \n",
      "3                                       8 - 10 years                    \n",
      "4                                       8 - 10 years                    \n",
      "\n",
      "  How many years of professional work experience do you have in your field?  \\\n",
      "0                                          5-7 years                          \n",
      "1                                          5-7 years                          \n",
      "2                                        2 - 4 years                          \n",
      "3                                          5-7 years                          \n",
      "4                                          5-7 years                          \n",
      "\n",
      "  What is your highest level of education completed? What is your gender?  \\\n",
      "0                                    Master's degree                Woman   \n",
      "1                                     College degree           Non-binary   \n",
      "2                                     College degree                Woman   \n",
      "3                                     College degree                Woman   \n",
      "4                                     College degree                Woman   \n",
      "\n",
      "  What is your race? (Choose all that apply.)  \n",
      "0                                       White  \n",
      "1                                       White  \n",
      "2                                       White  \n",
      "3                                       White  \n",
      "4                                       White  \n"
     ]
    }
   ],
   "source": [
    "# Load the Ask A Manager Salary Survey 2021 (Responses) data set into a variable (e.g., df_salary).\n",
    "salary_data_set_path = \"../data/ask_ a_manager_salary_survey_2021.tsv\"\n",
    "df_salary = pd.read_csv(salary_data_set_path, sep=\"\\t\")\n",
    "\n",
    "print(df_salary.head())\n"
   ]
  },
  {
   "cell_type": "markdown",
   "metadata": {},
   "source": [
    "Was that hard? 🙃"
   ]
  },
  {
   "cell_type": "markdown",
   "metadata": {},
   "source": [
    "#### rename the file to something that is better for all systems.  \n",
    "* No spaces in filename (can use '_')\n",
    "* all lower case"
   ]
  },
  {
   "cell_type": "markdown",
   "metadata": {},
   "source": [
    "### Explore\n",
    "\n",
    "You know the drill."
   ]
  },
  {
   "cell_type": "markdown",
   "metadata": {},
   "source": [
    "How much data did you just load?"
   ]
  },
  {
   "cell_type": "code",
   "execution_count": 25,
   "metadata": {},
   "outputs": [
    {
     "name": "stdout",
     "output_type": "stream",
     "text": [
      "(28062, 18)\n"
     ]
    }
   ],
   "source": [
    "# Count by hand. I’m dead serious.\n",
    "print(df_salary.shape)\n"
   ]
  },
  {
   "cell_type": "markdown",
   "metadata": {},
   "source": [
    "What are the columns and their types?"
   ]
  },
  {
   "cell_type": "code",
   "execution_count": 26,
   "metadata": {},
   "outputs": [
    {
     "name": "stdout",
     "output_type": "stream",
     "text": [
      "Timestamp                                                                                                                                                                                                                                object\n",
      "How old are you?                                                                                                                                                                                                                         object\n",
      "What industry do you work in?                                                                                                                                                                                                            object\n",
      "Job title                                                                                                                                                                                                                                object\n",
      "If your job title needs additional context, please clarify here:                                                                                                                                                                         object\n",
      "What is your annual salary? (You'll indicate the currency in a later question. If you are part-time or hourly, please enter an annualized equivalent -- what you would earn if you worked the job 40 hours a week, 52 weeks a year.)     object\n",
      "How much additional monetary compensation do you get, if any (for example, bonuses or overtime in an average year)? Please only include monetary compensation here, not the value of benefits.                                          float64\n",
      "Please indicate the currency                                                                                                                                                                                                             object\n",
      "If \"Other,\" please indicate the currency here:                                                                                                                                                                                           object\n",
      "If your income needs additional context, please provide it here:                                                                                                                                                                         object\n",
      "What country do you work in?                                                                                                                                                                                                             object\n",
      "If you're in the U.S., what state do you work in?                                                                                                                                                                                        object\n",
      "What city do you work in?                                                                                                                                                                                                                object\n",
      "How many years of professional work experience do you have overall?                                                                                                                                                                      object\n",
      "How many years of professional work experience do you have in your field?                                                                                                                                                                object\n",
      "What is your highest level of education completed?                                                                                                                                                                                       object\n",
      "What is your gender?                                                                                                                                                                                                                     object\n",
      "What is your race? (Choose all that apply.)                                                                                                                                                                                              object\n",
      "dtype: object\n"
     ]
    }
   ],
   "source": [
    "# Show the column names and their types.\n",
    "print(df_salary.dtypes)\n"
   ]
  },
  {
   "cell_type": "markdown",
   "metadata": {},
   "source": [
    "Oh… Ugh! Give these columns easier names to work with first. 🙄"
   ]
  },
  {
   "cell_type": "code",
   "execution_count": 27,
   "metadata": {},
   "outputs": [],
   "source": [
    "# Rename ‘em.\n",
    "# Non-binding suggestions: timestamp, age, industry, title, title_context, salary, additional_compensation, currency, other_currency, salary_context, country, state, city, total_yoe, field_yoe, highest_education_completed\tgender, race\n",
    "df_salary = df_salary.rename(columns={\n",
    "    \"Timestamp\": \"timestamp\",\n",
    "    \"How old are you?\": \"age\",\n",
    "    \"What industry do you work in?\": \"industry\",\n",
    "    \"Job title\": \"title\",\n",
    "    \"If your job title needs additional context, please clarify here:\": \"title_context\",\n",
    "    \"What is your annual salary? (You'll indicate the currency in a later question. If you are part-time or hourly, please enter an annualized equivalent -- what you would earn if you worked the job 40 hours a week, 52 weeks a year.)\": \"salary\",\n",
    "    \"How much additional monetary compensation do you get, if any (for example, bonuses or overtime in an average year)? Please only include monetary compensation here, not the value of benefits.\": \"additional_compensation\",\n",
    "    \"Please indicate the currency\": \"currency\",\n",
    "    \"If \\\"Other,\\\" please indicate the currency here: \": \"other_currency\",\n",
    "    \"If your income needs additional context, please provide it here:\": \"salary_context\",\n",
    "    \"What country do you work in?\": \"country\",\n",
    "    \"If you're in the U.S., what state do you work in?\": \"state\",\n",
    "    \"What city do you work in?\": \"city\",\n",
    "    \"How many years of professional work experience do you have overall?\": \"total_yoe\",\n",
    "    \"How many years of professional work experience do you have in your field?\": \"field_yoe\",\n",
    "    \"What is your highest level of education completed?\": \"highest_education_completed\",\n",
    "    \"What is your gender?\": \"gender\",\n",
    "    \"What is your race? (Choose all that apply.)\": \"race\"\n",
    "})\n",
    "\n"
   ]
  },
  {
   "cell_type": "markdown",
   "metadata": {},
   "source": [
    "It’s a lot, and that should not have been easy. 😏"
   ]
  },
  {
   "cell_type": "markdown",
   "metadata": {},
   "source": [
    "You’re going to have a gander at the computing/tech subset first because thats *your* industry. But first, what value corresponds to that `industry`?"
   ]
  },
  {
   "cell_type": "code",
   "execution_count": 28,
   "metadata": {},
   "outputs": [
    {
     "name": "stdout",
     "output_type": "stream",
     "text": [
      "industry\n",
      "Computing or Tech                               4699\n",
      "Education (Higher Education)                    2464\n",
      "Nonprofits                                      2419\n",
      "Health care                                     1896\n",
      "Government and Public Administration            1889\n",
      "                                                ... \n",
      "E-commerce                                         1\n",
      "Wholesale and retail trade                         1\n",
      "Data Entry                                         1\n",
      "Research and Development, Food and Beverage        1\n",
      "life sciences                                      1\n",
      "Name: count, Length: 1220, dtype: int64\n"
     ]
    }
   ],
   "source": [
    "# List the unique industries and a count of their instances.\n",
    "print(df_salary[\"industry\"].value_counts(dropna=False))\n"
   ]
  },
  {
   "cell_type": "markdown",
   "metadata": {},
   "source": [
    "That value among the top 5 is what you’re looking for innit? Filter out all the rows not in that industry and save it into a new dataframe. "
   ]
  },
  {
   "cell_type": "code",
   "execution_count": 33,
   "metadata": {},
   "outputs": [
    {
     "name": "stdout",
     "output_type": "stream",
     "text": [
      "industry\n",
      "Computing or Tech                       4699\n",
      "Education (Higher Education)            2464\n",
      "Nonprofits                              2419\n",
      "Health care                             1896\n",
      "Government and Public Administration    1889\n",
      "Name: count, dtype: int64\n",
      "(4699, 18)\n"
     ]
    }
   ],
   "source": [
    "# Filtery filter. (Save it to a new variable, df_salary_tech.)\n",
    "print(df_salary[\"industry\"].value_counts().head())\n",
    "df_tech = df_salary[df_salary[\"industry\"] == \"Computing or Tech\"]\n",
    "print(df_tech.shape)\n"
   ]
  },
  {
   "cell_type": "markdown",
   "metadata": {},
   "source": [
    "Do a sanity check to make sure that the only values you kept are the one you are filtered for.  "
   ]
  },
  {
   "cell_type": "code",
   "execution_count": 34,
   "metadata": {},
   "outputs": [
    {
     "name": "stdout",
     "output_type": "stream",
     "text": [
      "['Computing or Tech']\n"
     ]
    }
   ],
   "source": [
    "# Sanity Check \n",
    "print(df_tech[\"industry\"].unique())\n",
    "\n"
   ]
  },
  {
   "cell_type": "markdown",
   "metadata": {},
   "source": [
    "We are very interested in salary figures. But how many dollars 💵 is a euro 💶 or a pound 💷? That sounds like a problem for another day. 🫠\n",
    "\n",
    "For now, let’s just look at U.S. dollars (`'USD'`)."
   ]
  },
  {
   "cell_type": "code",
   "execution_count": null,
   "metadata": {},
   "outputs": [
    {
     "name": "stdout",
     "output_type": "stream",
     "text": [
      "['GBP' 'USD' 'CAD' 'EUR' 'Other' 'CHF' 'AUD/NZD' 'SEK' 'JPY' 'ZAR']\n",
      "['USD']\n"
     ]
    }
   ],
   "source": [
    "# Filtery filter for just the jobs that pay in USD!\n",
    "print(df_tech[\"currency\"].unique())\n",
    "df_tech_usd = df_tech[df_tech[\"currency\"] == \"USD\"]\n",
    "\n",
    "print(df_tech_usd[\"currency\"].unique())\n",
    "\n"
   ]
  },
  {
   "cell_type": "markdown",
   "metadata": {},
   "source": [
    "What we really want know is how each U.S. city pays in tech. What value in `country` represents the United States of America?"
   ]
  },
  {
   "cell_type": "code",
   "execution_count": 38,
   "metadata": {},
   "outputs": [
    {
     "name": "stdout",
     "output_type": "stream",
     "text": [
      "country\n",
      "United States               1576\n",
      "USA                         1222\n",
      "US                           412\n",
      "U.S.                         108\n",
      "United States of America      90\n",
      "United States                 68\n",
      "Usa                           59\n",
      "USA                           56\n",
      "usa                           28\n",
      "United states                 23\n",
      "Name: count, dtype: int64\n"
     ]
    }
   ],
   "source": [
    "# We did filter for USD, so if we do a count of each unique country in descending count order, the relevant value(s) should show up at the top.\n",
    "print(df_tech_usd[\"country\"].value_counts().head(10))\n"
   ]
  },
  {
   "cell_type": "markdown",
   "metadata": {},
   "source": [
    "### Clean the Data\n",
    "\n",
    "Well, we can’t get our answers with what we currently have, so you’ll have to make some changes."
   ]
  },
  {
   "cell_type": "markdown",
   "metadata": {},
   "source": [
    "Let’s not worry about anything below the first 5 values for now. Convert the top 5 to a single canonical value―say, `'US'`, which is nice and short."
   ]
  },
  {
   "cell_type": "code",
   "execution_count": 44,
   "metadata": {},
   "outputs": [
    {
     "name": "stdout",
     "output_type": "stream",
     "text": [
      "country\n",
      "US                         3698\n",
      "U.S.A.                        7\n",
      "Canada                        5\n",
      "Israel                        5\n",
      "U.S.A                         3\n",
      "India                         2\n",
      "Unitedstates                  2\n",
      "Australia                     2\n",
      "United State Of America       2\n",
      "Spain                         2\n",
      "Name: count, dtype: int64\n"
     ]
    }
   ],
   "source": [
    "# Replace them all with 'US'.\n",
    "\n",
    "df_tech_usd = df_tech[df_tech[\"currency\"] == \"USD\"].copy()\n",
    "\n",
    "df_tech_usd[\"country\"] = df_tech_usd[\"country\"].str.strip().str.title()\n",
    "\n",
    "\n",
    "\n",
    "top5_countries = df_tech_usd[\"country\"].value_counts().head(5).index\n",
    "df_tech_usd.loc[df_tech_usd[\"country\"].isin(top5_countries), \"country\"] = \"US\"\n",
    "\n",
    "print(df_tech_usd[\"country\"].value_counts().head(10))\n"
   ]
  },
  {
   "cell_type": "markdown",
   "metadata": {},
   "source": [
    "Have a look at the count of each unique country again now."
   ]
  },
  {
   "cell_type": "code",
   "execution_count": 45,
   "metadata": {},
   "outputs": [
    {
     "name": "stdout",
     "output_type": "stream",
     "text": [
      "country\n",
      "US                         3698\n",
      "U.S.A.                        7\n",
      "Canada                        5\n",
      "Israel                        5\n",
      "U.S.A                         3\n",
      "India                         2\n",
      "Unitedstates                  2\n",
      "Australia                     2\n",
      "United State Of America       2\n",
      "Spain                         2\n",
      "Name: count, dtype: int64\n"
     ]
    }
   ],
   "source": [
    "# Count again.\n",
    "print(df_tech_usd[\"country\"].value_counts().head(10))\n",
    "\n"
   ]
  },
  {
   "cell_type": "markdown",
   "metadata": {},
   "source": [
    "Did you notice anything interesting?"
   ]
  },
  {
   "cell_type": "code",
   "execution_count": null,
   "metadata": {},
   "outputs": [],
   "source": [
    "# BONUS CREDIT: resolve [most of] those anomalous cases too without exhaustively taking every variant literally into account.\n",
    "\n"
   ]
  },
  {
   "cell_type": "code",
   "execution_count": null,
   "metadata": {},
   "outputs": [],
   "source": [
    "\n",
    "# BONUS CREDIT: if you’ve resolved it, let’s see how well you did by counting the number of instances of each unique value.\n",
    "\n"
   ]
  },
  {
   "cell_type": "markdown",
   "metadata": {},
   "source": [
    "It’s looking good so far. Let’s find out the minimum, mean, and maximum (in that order) salary by state, sorted by the mean in descending order."
   ]
  },
  {
   "cell_type": "code",
   "execution_count": null,
   "metadata": {},
   "outputs": [
    {
     "name": "stdout",
     "output_type": "stream",
     "text": [
      "                                  min           mean        max  count\n",
      "state                                                                 \n",
      "Michigan, Texas, Washington  340000.0  340000.000000   340000.0      1\n",
      "Florida                       28800.0  210711.000000  2600000.0     23\n",
      "California, Oregon           200000.0  200000.000000   200000.0      1\n",
      "California, Colorado         176000.0  176000.000000   176000.0      1\n",
      "Delaware                     169000.0  169000.000000   169000.0      1\n",
      "Connecticut                   68000.0  161610.000000   270000.0      5\n",
      "California                        0.0  153286.988827   520000.0    179\n",
      "New York                      14000.0  146594.112150   590000.0    107\n",
      "Wisconsin                         1.0  145806.888889   920000.0     27\n",
      "District of Columbia          59000.0  142923.076923   200000.0     13\n",
      "New Jersey, New York         135000.0  137500.000000   140000.0      2\n",
      "Ohio                          42000.0  137066.666667   954000.0     18\n",
      "Washington                       72.0  136923.916667   300000.0     72\n",
      "Massachusetts                 41000.0  125899.155844   400000.0     77\n",
      "Nevada                       107100.0  124550.000000   142000.0      2\n"
     ]
    }
   ],
   "source": [
    "# Find the minimum, mean, and maximum salary in USD by U.S. state.\n",
    "\n",
    "\n",
    "df_tech_usd = df_tech_usd.copy()\n",
    "df_tech_usd[\"salary_num\"] = pd.to_numeric(df_tech_usd[\"salary\"], errors=\"coerce\")\n",
    "\n",
    "\n",
    "df_ok = df_tech_usd.dropna(subset=[\"state\", \"salary_num\"])\n",
    "\n",
    "\n",
    "state_salary_stats = (\n",
    "    df_ok.groupby(\"state\")[\"salary_num\"]\n",
    "         .agg([\"min\", \"mean\", \"max\", \"count\"])\n",
    "         .sort_values(\"mean\", ascending=False)\n",
    ")\n",
    "\n",
    "print(state_salary_stats.head(15))\n",
    "\n"
   ]
  },
  {
   "cell_type": "markdown",
   "metadata": {},
   "source": [
    "Well, pooh! We forgot that `salary` isn’t numeric. Something wrong must be fixed."
   ]
  },
  {
   "cell_type": "code",
   "execution_count": null,
   "metadata": {},
   "outputs": [],
   "source": [
    "# Fix it.\n",
    "\n"
   ]
  },
  {
   "cell_type": "markdown",
   "metadata": {},
   "source": [
    "Let’s try that again."
   ]
  },
  {
   "cell_type": "code",
   "execution_count": null,
   "metadata": {},
   "outputs": [],
   "source": [
    "# Try it again. Yeah!\n",
    "\n"
   ]
  },
  {
   "cell_type": "markdown",
   "metadata": {},
   "source": [
    "That did the trick! Now let’s narrow this to data 2021 and 2022 just because (lel). *(Hint: that timestamp column may not be a temporal type right now.)*"
   ]
  },
  {
   "cell_type": "code",
   "execution_count": null,
   "metadata": {},
   "outputs": [],
   "source": [
    "# Filter the data to within 2021, 2022, or 2023, saving the DataFrame to a new variable, and generate the summary again.\n",
    "df_tech_usd = df_tech_usd.copy()\n",
    "df_tech_usd[\"salary_num\"] = pd.to_numeric(df_tech_usd[\"salary\"], errors=\"coerce\")\n",
    "df_tech_usd[\"year\"] = pd.to_datetime(df_tech_usd[\"timestamp\"], errors=\"coerce\").dt.year\n",
    "\n",
    "df_21_23 = df_tech_usd[df_tech_usd[\"year\"].isin([2021, 2022, 2023])].copy()\n",
    "df_ok = df_21_23.dropna(subset=[\"state\", \"salary_num\"])\n",
    "\n",
    "state_salary_stats_21_23 = (\n",
    "    df_ok.groupby(\"state\")[\"salary_num\"]\n",
    "         .agg([\"min\", \"mean\", \"max\"])\n",
    "         .sort_values(\"mean\", ascending=False)\n",
    ")\n",
    "\n",
    "print(state_salary_stats_21_23)\n",
    "\n"
   ]
  },
  {
   "cell_type": "markdown",
   "metadata": {},
   "source": [
    "## Bonus\n",
    "\n",
    "Clearly, we do not have enough data to produce useful figures for the level of specificity you’ve now reached. What do you notice about Delaware and West Virginia?\n",
    "\n",
    "Let’s back out a bit and return to `df_salary` (which was the loaded data with renamed columns but *sans* filtering)."
   ]
  },
  {
   "cell_type": "markdown",
   "metadata": {},
   "source": [
    "### Bonus #0\n",
    "\n",
    "Apply the same steps as before to `df_salary`, but do not filter for any specific industry. Do perform the other data cleaning stuff, and get to a point where you can generate the minimum, mean, and maximum by state."
   ]
  },
  {
   "cell_type": "code",
   "execution_count": null,
   "metadata": {},
   "outputs": [],
   "source": []
  },
  {
   "cell_type": "markdown",
   "metadata": {},
   "source": [
    "### Bonus #1\n",
    "\n",
    "This time, format the table output nicely (*$12,345.00*) without modifying the values in the `DataFrame`. That is, `df_salary` should be identical before versus after running your code.\n",
    "\n",
    "(*Hint: if you run into an error about `jinja2` perhaps you need to `pip install` something.*)"
   ]
  },
  {
   "cell_type": "code",
   "execution_count": null,
   "metadata": {},
   "outputs": [],
   "source": []
  },
  {
   "cell_type": "markdown",
   "metadata": {},
   "source": [
    "### Bonus #2\n",
    "\n",
    "Filter out the non-single-states (e.g., `'California, Colorado'`) in the most elegant way possible (i.e., *not* by blacklisting all the bad values)."
   ]
  },
  {
   "cell_type": "code",
   "execution_count": null,
   "metadata": {},
   "outputs": [],
   "source": []
  },
  {
   "cell_type": "markdown",
   "metadata": {},
   "source": [
    "### Bonus #3\n",
    "\n",
    "Show the quantiles instead of just minimum, mean, and maximum―say 0%, 5%, 25%, 50%, 75%, 95%, and 100%. Outliers may be deceiving.\n",
    "\n",
    "Sort by whatever interests you―like say the *50th* percentile.\n",
    "\n",
    "And throw in a count by state too. It would be interesting to know how many data points contribute to the figures for each state. (*Hint: your nice formatting from Bonus #1 might not work this time around.* 😜)"
   ]
  },
  {
   "cell_type": "code",
   "execution_count": null,
   "metadata": {},
   "outputs": [],
   "source": []
  }
 ],
 "metadata": {
  "kernelspec": {
   "display_name": "Python 3",
   "language": "python",
   "name": "python3"
  },
  "language_info": {
   "codemirror_mode": {
    "name": "ipython",
    "version": 3
   },
   "file_extension": ".py",
   "mimetype": "text/x-python",
   "name": "python",
   "nbconvert_exporter": "python",
   "pygments_lexer": "ipython3",
   "version": "3.12.1"
  }
 },
 "nbformat": 4,
 "nbformat_minor": 2
}
